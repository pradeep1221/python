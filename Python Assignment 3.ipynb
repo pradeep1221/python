{
 "cells": [
  {
   "cell_type": "code",
   "execution_count": 1,
   "metadata": {},
   "outputs": [
    {
     "data": {
      "text/plain": [
       "'error occurred : division by zero'"
      ]
     },
     "execution_count": 1,
     "metadata": {},
     "output_type": "execute_result"
    }
   ],
   "source": [
    "#Task 1 - 1\n",
    "\n",
    "def division(n):\n",
    "  try:\n",
    "    return n/0\n",
    "  except Exception as e:\n",
    "    return \"error occurred : %s\"%(e)\n",
    "division(5)"
   ]
  },
  {
   "cell_type": "code",
   "execution_count": 2,
   "metadata": {},
   "outputs": [
    {
     "name": "stdout",
     "output_type": "stream",
     "text": [
      "Americans  play Baseball\n",
      "Americans  play Cricket\n",
      "Americans  watch Baseball\n",
      "Americans  watch Cricket\n",
      "Indians play Baseball\n",
      "Indians play Cricket\n",
      "Indians watch Baseball\n",
      "Indians watch Cricket\n"
     ]
    }
   ],
   "source": [
    "#Task 1 - 2\n",
    "\n",
    "subjects=[\"Americans \",\"Indians\"]\n",
    "verbs=[\"play\",\"watch\"]\n",
    "objects=[\"Baseball\",\"Cricket\"]\n",
    "for i in subjects:\n",
    "  for j in verbs:\n",
    "    for k in objects:\n",
    "      print(f\"{i} {j} {k}\")"
   ]
  },
  {
   "cell_type": "code",
   "execution_count": 5,
   "metadata": {},
   "outputs": [
    {
     "name": "stdout",
     "output_type": "stream",
     "text": [
      "vandermonde matrix in the increasing order of powers:\n",
      " [[ 1  1  1]\n",
      " [ 1  2  4]\n",
      " [ 1  3  9]\n",
      " [ 1  4 16]\n",
      " [ 1  5 25]] \n",
      "\n",
      "Vandermonde matrix in the decreasing order of powers:\n",
      " [[ 1  1  1]\n",
      " [ 4  2  1]\n",
      " [ 9  3  1]\n",
      " [16  4  1]\n",
      " [25  5  1]] \n",
      "\n"
     ]
    }
   ],
   "source": [
    "#Task 2 - 1\n",
    "\n",
    "import numpy as np\n",
    "\n",
    "def vandermondeMatrix(inputvector, n, increasing):\n",
    "    \n",
    "    if not increasing:\n",
    "        opmatrix = np.array([x**(n-1-i) for x in inputvector for i in range(n)]).reshape(inputvector.size,n)\n",
    "    elif increasing:\n",
    "        opmatrix = np.array([x**i for x in inputvector for i in range(n)]).reshape(inputvector.size,n)\n",
    "    \n",
    "    return opmatrix\n",
    "\n",
    "\n",
    "inputvector = np.array([1,2,3,4,5])\n",
    "coloumns = 3\n",
    "\n",
    "outputmatrixinc = vandermondeMatrix(inputvector,coloumns,True)\n",
    "outputmatrixdec = vandermondeMatrix(inputvector,coloumns,False)\n",
    "\n",
    "print(\"vandermonde matrix in the increasing order of powers:\\n\",outputmatrixinc,\"\\n\")\n",
    "print(\"Vandermonde matrix in the decreasing order of powers:\\n\",outputmatrixdec,\"\\n\")"
   ]
  },
  {
   "cell_type": "code",
   "execution_count": null,
   "metadata": {},
   "outputs": [],
   "source": []
  }
 ],
 "metadata": {
  "kernelspec": {
   "display_name": "Python 3",
   "language": "python",
   "name": "python3"
  },
  "language_info": {
   "codemirror_mode": {
    "name": "ipython",
    "version": 3
   },
   "file_extension": ".py",
   "mimetype": "text/x-python",
   "name": "python",
   "nbconvert_exporter": "python",
   "pygments_lexer": "ipython3",
   "version": "3.7.6"
  }
 },
 "nbformat": 4,
 "nbformat_minor": 4
}
