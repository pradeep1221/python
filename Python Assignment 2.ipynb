{
 "cells": [
  {
   "cell_type": "code",
   "execution_count": 20,
   "metadata": {},
   "outputs": [
    {
     "data": {
      "text/plain": [
       "15"
      ]
     },
     "execution_count": 20,
     "metadata": {},
     "output_type": "execute_result"
    }
   ],
   "source": [
    "#Assignment-2\n",
    "#Task 1 - 1.1\n",
    "\n",
    "list1=[1,2,3,4,5]\n",
    "def sum(a,b):\n",
    "  return a+b\n",
    "def multiply(a,b):\n",
    "  return a*b\n",
    "\n",
    "#myreduce function\n",
    "def myreduce(function,l):\n",
    "  first=l[0]\n",
    "  for i in range(1,len(l)):\n",
    "    sum=function(first,l[i])\n",
    "    first=sum\n",
    "    \n",
    "  else:\n",
    "    return sum\n",
    "\n",
    "myreduce(sum,list1)"
   ]
  },
  {
   "cell_type": "code",
   "execution_count": 2,
   "metadata": {},
   "outputs": [
    {
     "data": {
      "text/plain": [
       "(2, 4, 6)"
      ]
     },
     "execution_count": 2,
     "metadata": {},
     "output_type": "execute_result"
    }
   ],
   "source": [
    "#Task 1 - 1.2\n",
    "\n",
    "filterlist=[1,2,3,4,5,6]\n",
    "finallist=[]\n",
    "\n",
    "#myfilter function\n",
    "def myfilter(function,f):\n",
    "  for i in f:\n",
    "    b=function(i)\n",
    "    if b==True:\n",
    "      finallist.append(i)\n",
    "  else :\n",
    "    return finallist\n",
    "\n",
    "def findeven(n):\n",
    "  if n%2 == 0:\n",
    "    return True\n",
    "  else:\n",
    "    return False\n",
    "\n",
    "tuple(myfilter(findeven,filterlist))"
   ]
  },
  {
   "cell_type": "code",
   "execution_count": 3,
   "metadata": {},
   "outputs": [
    {
     "data": {
      "text/plain": [
       "['A', 'C', 'A', 'D', 'G', 'I', 'L', ' D']"
      ]
     },
     "execution_count": 3,
     "metadata": {},
     "output_type": "execute_result"
    }
   ],
   "source": [
    "#Task 1 - 2\n",
    "\n",
    "l=['A', 'C', 'A', 'D', 'G', 'I', 'L', ' D']\n",
    "[i for i in l]"
   ]
  },
  {
   "cell_type": "code",
   "execution_count": 4,
   "metadata": {},
   "outputs": [
    {
     "data": {
      "text/plain": [
       "['x', 'xx', 'xxx', 'xxxx', 'y', 'yy', 'yyy', 'yyyy', 'z', 'zz', 'zzz', 'zzzz']"
      ]
     },
     "execution_count": 4,
     "metadata": {},
     "output_type": "execute_result"
    }
   ],
   "source": [
    "s=['x','y','z']\n",
    "[i*j for i in s for j in range(1,5)]"
   ]
  },
  {
   "cell_type": "code",
   "execution_count": 5,
   "metadata": {},
   "outputs": [
    {
     "data": {
      "text/plain": [
       "['x', 'y', 'z', 'xx', 'yy', 'zz', 'xxx', 'yyy', 'zzz', 'xxxx', 'yyyy', 'zzzz']"
      ]
     },
     "execution_count": 5,
     "metadata": {},
     "output_type": "execute_result"
    }
   ],
   "source": [
    "[j*i for i in range(1,5) for j in s ]"
   ]
  },
  {
   "cell_type": "code",
   "execution_count": 6,
   "metadata": {},
   "outputs": [
    {
     "data": {
      "text/plain": [
       "[[2], [3], [4], [3], [4], [5], [4], [5], [6]]"
      ]
     },
     "execution_count": 6,
     "metadata": {},
     "output_type": "execute_result"
    }
   ],
   "source": [
    "[[i+j] for i in range(2,5) for j in range(0,3)]"
   ]
  },
  {
   "cell_type": "code",
   "execution_count": 7,
   "metadata": {},
   "outputs": [
    {
     "data": {
      "text/plain": [
       "[[2, 3, 4, 5], [3, 4, 5, 6], [4, 5, 6, 7], [5, 6, 7, 8]]"
      ]
     },
     "execution_count": 7,
     "metadata": {},
     "output_type": "execute_result"
    }
   ],
   "source": [
    "[[i+j for i in range(2,6)] for j in range(0,4)]"
   ]
  },
  {
   "cell_type": "code",
   "execution_count": 8,
   "metadata": {},
   "outputs": [
    {
     "data": {
      "text/plain": [
       "[(1, 1), (2, 1), (3, 1), (1, 2), (2, 2), (3, 2), (1, 3), (2, 3), (3, 3)]"
      ]
     },
     "execution_count": 8,
     "metadata": {},
     "output_type": "execute_result"
    }
   ],
   "source": [
    "[(j,i) for i in range(1,4) for j in range(1,4)]"
   ]
  },
  {
   "cell_type": "code",
   "execution_count": 9,
   "metadata": {},
   "outputs": [
    {
     "data": {
      "text/plain": [
       "'abcde'"
      ]
     },
     "execution_count": 9,
     "metadata": {},
     "output_type": "execute_result"
    }
   ],
   "source": [
    "#Task 1 - 3\n",
    "\n",
    "def longestWord(list):\n",
    "   longestWordLength=len(list[0])\n",
    "   longestWord=list[0]\n",
    "   for i in list:\n",
    "     if len(i) > longestWordLength:\n",
    "       longestWordLength=len(i)\n",
    "       longestWord=i\n",
    "   else :\n",
    "      return longestWord\n",
    "    \n",
    "longestWord(['abc','b','ab','abcde'])"
   ]
  },
  {
   "cell_type": "code",
   "execution_count": 11,
   "metadata": {},
   "outputs": [
    {
     "name": "stdout",
     "output_type": "stream",
     "text": [
      "5\n",
      "6\n",
      "7\n",
      "14.696938456699069\n"
     ]
    }
   ],
   "source": [
    "#Task 2 - 1.1\n",
    "\n",
    "class triangle:\n",
    "  def userinput(self):\n",
    "    self.a=int(input())\n",
    "    self.b=int(input())\n",
    "    self.c=int(input())\n",
    "\n",
    "class area(triangle):\n",
    "   def calculatearea(self):\n",
    "     s=(self.a+self.b+self.c)/2\n",
    "     areaoftriangle=(s*(s-self.a)*(s-self.b)*(s-self.c)) ** 0.5\n",
    "     return areaoftriangle\n",
    "    \n",
    "     \n",
    "    \n",
    "\n",
    "A=area()\n",
    "A.userinput()\n",
    "print(A.calculatearea())\n",
    "\n"
   ]
  },
  {
   "cell_type": "code",
   "execution_count": 16,
   "metadata": {},
   "outputs": [
    {
     "name": "stdout",
     "output_type": "stream",
     "text": [
      "['qwwew', 'asdas']\n"
     ]
    }
   ],
   "source": [
    "#Task 2 - 1.2\n",
    "\n",
    "o=[]\n",
    "def filter_long_words(l,n):\n",
    "  for i in l:\n",
    "    if len(i)>n:\n",
    "      o.append(i)\n",
    "  else :\n",
    "    return o  \n",
    "\n",
    "inp=['qwwew','asdas','erer']\n",
    "n=4\n",
    "print(filter_long_words(inp,n)) \n"
   ]
  },
  {
   "cell_type": "code",
   "execution_count": 18,
   "metadata": {},
   "outputs": [
    {
     "name": "stdout",
     "output_type": "stream",
     "text": [
      "[5, 3, 3]\n"
     ]
    }
   ],
   "source": [
    "#Task 2 - 2.1\n",
    "\n",
    "op=[]\n",
    "listinp=['qwwew','aas','ewe']\n",
    "def find_length(listinp):\n",
    "  for i in listinp:\n",
    "    op.append(len(i))\n",
    "  else :\n",
    "    print(op)\n",
    "find_length(listinp)"
   ]
  },
  {
   "cell_type": "code",
   "execution_count": 22,
   "metadata": {},
   "outputs": [
    {
     "name": "stdout",
     "output_type": "stream",
     "text": [
      "Enter the character:a\n",
      "True\n"
     ]
    }
   ],
   "source": [
    "#Task 2 - 2.2\n",
    "\n",
    "def find_vowel(ip,v):\n",
    "  for i in v:\n",
    "    if i==ip:\n",
    "      print(True)\n",
    "      break\n",
    "  else :\n",
    "    print(False)\n",
    "ip=input(\"Enter the character:\")\n",
    "vowels=['a','e','i','o','u']\n",
    "find_vowel(ip,vowels)"
   ]
  },
  {
   "cell_type": "code",
   "execution_count": null,
   "metadata": {},
   "outputs": [],
   "source": []
  }
 ],
 "metadata": {
  "kernelspec": {
   "display_name": "Python 3",
   "language": "python",
   "name": "python3"
  },
  "language_info": {
   "codemirror_mode": {
    "name": "ipython",
    "version": 3
   },
   "file_extension": ".py",
   "mimetype": "text/x-python",
   "name": "python",
   "nbconvert_exporter": "python",
   "pygments_lexer": "ipython3",
   "version": "3.7.6"
  }
 },
 "nbformat": 4,
 "nbformat_minor": 4
}
